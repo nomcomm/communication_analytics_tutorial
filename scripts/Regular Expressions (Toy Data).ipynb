{
 "cells": [
  {
   "cell_type": "code",
   "execution_count": 1,
   "metadata": {},
   "outputs": [
    {
     "name": "stdout",
     "output_type": "stream",
     "text": [
      "['realDonaldTrump', '16460678']\n"
     ]
    }
   ],
   "source": [
    "import re\n",
    "line = '{\"usernameTweet\": \"realDonaldTrump\", \"ID\": \"1176953905143590912\", \"text\": \"I have informed @GOPLeader  Kevin McCarthy and all Republicans in the House that I fully support transparency on so-called whistleblower information but also insist on transparency from Joe Biden and his son Hunter, on the millions of dollars that have been quickly and easily....\", \"url\": \"/realDonaldTrump/status/1176953905143590912\", \"nbr_retweet\": 26740, \"nbr_favorite\": 105089, \"nbr_reply\": 17181, \"datetime\": \"2019-09-25 16:17:32\", \"is_reply\": false, \"is_retweet\": true, \"retweet_user_id\": \"16460678\"}'\n",
    "try:\n",
    "    result = re.search(r'\"usernameTweet\": \"(.*?)\", ', line)\n",
    "except:\n",
    "    result = None\n",
    "try:\n",
    "    result2 = re.search(r'\"retweet_user_id\": \"(.*?)\"}', line)\n",
    "except:\n",
    "    result2 = None\n",
    "list = list([result.group(1),result2.group(1)])\n",
    "print(list)\n"
   ]
  },
  {
   "cell_type": "code",
   "execution_count": null,
   "metadata": {},
   "outputs": [],
   "source": []
  }
 ],
 "metadata": {
  "kernelspec": {
   "display_name": "Python 3",
   "language": "python",
   "name": "python3"
  },
  "language_info": {
   "codemirror_mode": {
    "name": "ipython",
    "version": 3
   },
   "file_extension": ".py",
   "mimetype": "text/x-python",
   "name": "python",
   "nbconvert_exporter": "python",
   "pygments_lexer": "ipython3",
   "version": "3.6.5"
  }
 },
 "nbformat": 4,
 "nbformat_minor": 2
}
