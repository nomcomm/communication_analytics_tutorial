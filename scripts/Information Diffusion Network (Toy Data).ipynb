{
 "cells": [
  {
   "cell_type": "code",
   "execution_count": 55,
   "metadata": {},
   "outputs": [
    {
     "name": "stdout",
     "output_type": "stream",
     "text": [
      "20151207\n",
      "201512072238\n",
      "20151208\n",
      "201512081259\n",
      "20151208\n",
      "201512081259\n",
      "20151209\n",
      "201512091258\n"
     ]
    }
   ],
   "source": [
    "import matplotlib as mpl\n",
    "import matplotlib.patches\n",
    "import matplotlib.pyplot as plt\n",
    "import networkx as nx \n",
    "import numpy\n",
    "import numpy as np\n",
    "\n",
    "with open('data2.csv', 'r') as f:\n",
    "    rt_time = []\n",
    "    for line in f:\n",
    "        time= line.strip().split(',')[-1]\n",
    "        #print (time)\n",
    "        day = time[0:4] + time[5:7] + time[8:10]\n",
    "        print (day)\n",
    "       \n",
    "        #hms= time[9:17].replace(':', '')\n",
    "        hm = time[11:16].replace(':','')\n",
    "        time = int(day + hm)\n",
    "        print(time)\n",
    "\n",
    "        rt_time.append(time)\n",
    "#count the time lag\n",
    "array = numpy.array(rt_time)\n",
    "order = array.argsort()\n",
    "ranks = order.argsort()\n",
    "G = nx.DiGraph()"
   ]
  },
  {
   "cell_type": "code",
   "execution_count": 56,
   "metadata": {},
   "outputs": [
    {
     "name": "stdout",
     "output_type": "stream",
     "text": [
      "(('name=aaa', 'name=bbb'), ('name=bbb', 'name=ccc'), ('name=bbb', 'name=eee'), ('name=ccc', 'name=ddd'))\n",
      "{'name=aaa': 1, 'name=bbb': 3, 'name=ccc': 2, 'name=ddd': 1, 'name=eee': 1}\n",
      "4\n"
     ]
    },
    {
     "data": {
      "text/plain": [
       "<Figure size 1440x720 with 0 Axes>"
      ]
     },
     "metadata": {},
     "output_type": "display_data"
    }
   ],
   "source": [
    "with open('data2.csv', 'r') as f:\n",
    "    for position, line in enumerate(f):\n",
    "        uid, rtuid= line.strip().split(',')[:-1]\n",
    "        G.add_edge(uid, rtuid, time = ranks[position])\n",
    "edges,colors = zip(*nx.get_edge_attributes(G,'time').items())\n",
    "G = G.to_directed()\n",
    "print(edges)\n",
    "#degree=G.degree()#node's indegree and outdegree\n",
    "\n",
    "degree = G.degree(G)\n",
    "print(degree)\n",
    "closenesss = nx.closeness_centrality(G)\n",
    "betweenness = nx.betweenness_centrality(G)\n",
    "print (G.number_of_edges()) # 1547\n",
    "# print g.diameter(G) # 2\n",
    "path_length = nx.all_pairs_shortest_path_length(G)\n",
    "pos=nx.spring_layout(G) #set up a network\n",
    "fig = plt.figure(figsize=(20, 10),facecolor='white')"
   ]
  },
  {
   "cell_type": "code",
   "execution_count": 65,
   "metadata": {},
   "outputs": [
    {
     "name": "stderr",
     "output_type": "stream",
     "text": [
      "C:\\Users\\msy\\Anaconda3\\lib\\site-packages\\networkx\\drawing\\nx_pylab.py:126: MatplotlibDeprecationWarning: pyplot.hold is deprecated.\n",
      "    Future behavior will be consistent with the long-time default:\n",
      "    plot commands add elements without first clearing the\n",
      "    Axes and/or Figure.\n",
      "  b = plt.ishold()\n",
      "C:\\Users\\msy\\Anaconda3\\lib\\site-packages\\networkx\\drawing\\nx_pylab.py:522: MatplotlibDeprecationWarning: The is_string_like function was deprecated in version 2.1.\n",
      "  if not cb.is_string_like(edge_color) \\\n",
      "C:\\Users\\msy\\Anaconda3\\lib\\site-packages\\networkx\\drawing\\nx_pylab.py:543: MatplotlibDeprecationWarning: The is_string_like function was deprecated in version 2.1.\n",
      "  if cb.is_string_like(edge_color) or len(edge_color) == 1:\n",
      "C:\\Users\\msy\\Anaconda3\\lib\\site-packages\\networkx\\drawing\\nx_pylab.py:724: MatplotlibDeprecationWarning: The is_string_like function was deprecated in version 2.1.\n",
      "  if not cb.is_string_like(label):\n",
      "C:\\Users\\msy\\Anaconda3\\lib\\site-packages\\networkx\\drawing\\nx_pylab.py:138: MatplotlibDeprecationWarning: pyplot.hold is deprecated.\n",
      "    Future behavior will be consistent with the long-time default:\n",
      "    plot commands add elements without first clearing the\n",
      "    Axes and/or Figure.\n",
      "  plt.hold(b)\n",
      "C:\\Users\\msy\\Anaconda3\\lib\\site-packages\\matplotlib\\__init__.py:911: MatplotlibDeprecationWarning: axes.hold is deprecated. Please remove it from your matplotlibrc and/or style files.\n",
      "  mplDeprecation)\n",
      "C:\\Users\\msy\\Anaconda3\\lib\\site-packages\\matplotlib\\rcsetup.py:156: MatplotlibDeprecationWarning: axes.hold is deprecated, will be removed in 3.0\n",
      "  mplDeprecation)\n"
     ]
    },
    {
     "data": {
      "image/png": "[encoded data removed]",
      "text/plain": [
       "<Figure size 432x288 with 1 Axes>"
      ]
     },
     "metadata": {},
     "output_type": "display_data"
    }
   ],
   "source": [
    "nx.draw(G, pos, nodelist = degree.keys(),\n",
    "        node_size = [v*20 for v in degree.values()], node_color = 'blue',         \n",
    "        node_shape = 'o', cmap=plt.cm.gray,\n",
    "        edgelist = edges, edge_color = 'gray', width = 1.0,\n",
    "        with_labels = True, arrows = True, arrowstyle='->')\n",
    "plt.title(\"A twitter social network\")\n",
    "plt.show()"
   ]
  },
  {
   "cell_type": "code",
   "execution_count": null,
   "metadata": {},
   "outputs": [],
   "source": []
  },
  {
   "cell_type": "code",
   "execution_count": null,
   "metadata": {},
   "outputs": [],
   "source": []
  }
 ],
 "metadata": {
  "kernelspec": {
   "display_name": "Python 3",
   "language": "python",
   "name": "python3"
  },
  "language_info": {
   "codemirror_mode": {
    "name": "ipython",
    "version": 3
   },
   "file_extension": ".py",
   "mimetype": "text/x-python",
   "name": "python",
   "nbconvert_exporter": "python",
   "pygments_lexer": "ipython3",
   "version": "3.6.5"
  }
 },
 "nbformat": 4,
 "nbformat_minor": 2
}
