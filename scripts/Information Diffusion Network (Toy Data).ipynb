{
 "cells": [
  {
   "cell_type": "markdown",
   "metadata": {},
   "source": [
    "## An example of a diffusion network"
   ]
  },
  {
   "cell_type": "markdown",
   "metadata": {},
   "source": [
    "#### First, import required modules  and load the data"
   ]
  },
  {
   "cell_type": "code",
   "execution_count": null,
   "metadata": {},
   "outputs": [],
   "source": [
    "import matplotlib as mpl\n",
    "import matplotlib.patches\n",
    "import matplotlib.pyplot as plt\n",
    "import networkx as nx \n",
    "import numpy\n",
    "import numpy as np\n",
    "%matplotlib inline\n",
    "\n",
    "with open('../data/data2.csv', 'r') as f:\n",
    "    rt_time = []\n",
    "    for line in f:\n",
    "        time= line.strip().split(',')[-1]\n",
    "        print('\\ntime: ')\n",
    "        print (time)\n",
    "        \n",
    "        day = time[0:4] + time[5:7] + time[8:10]\n",
    "        print('\\nday: ')\n",
    "        print (day)\n",
    "       \n",
    "        #hms= time[9:17].replace(':', '')\n",
    "        hm = time[11:16].replace(':','')\n",
    "        time = int(day + hm)\n",
    "        print('\\ntime: ')\n",
    "        print(time)\n",
    "\n",
    "        rt_time.append(time)\n"
   ]
  },
  {
   "cell_type": "markdown",
   "metadata": {},
   "source": [
    "#### Next, count the time lag and convert into a graph"
   ]
  },
  {
   "cell_type": "code",
   "execution_count": null,
   "metadata": {},
   "outputs": [],
   "source": [
    "array = numpy.array(rt_time)\n",
    "order = array.argsort()\n",
    "ranks = order.argsort()\n",
    "G = nx.DiGraph()"
   ]
  },
  {
   "cell_type": "markdown",
   "metadata": {},
   "source": [
    "#### Compute a few metrics, like degree, closeness, betweenness, and shortest path length"
   ]
  },
  {
   "cell_type": "code",
   "execution_count": null,
   "metadata": {},
   "outputs": [],
   "source": [
    "with open('../data/data2.csv', 'r') as f:\n",
    "    for position, line in enumerate(f):\n",
    "        uid, rtuid= line.strip().split(',')[:-1]\n",
    "        G.add_edge(uid, rtuid, time = ranks[position])\n",
    "        \n",
    "edges,colors = zip(*nx.get_edge_attributes(G,'time').items())\n",
    "G = G.to_directed()\n",
    "\n",
    "# Edges\n",
    "print('Edges: ')\n",
    "print(edges)\n",
    "\n",
    "print('Number of Edges: ')\n",
    "print (G.number_of_edges()) \n",
    "\n",
    "# Degree\n",
    "degree = G.degree() \n",
    "print('Degree: ')\n",
    "print(degree)\n",
    "\n",
    "# SPL\n",
    "path_length = nx.all_pairs_shortest_path_length(G)\n",
    "\n",
    "# Closeness\n",
    "closenesss = nx.closeness_centrality(G)\n",
    "\n",
    "# Betweenness\n",
    "betweenness = nx.betweenness_centrality(G)"
   ]
  },
  {
   "cell_type": "markdown",
   "metadata": {},
   "source": [
    "### Plot the graph"
   ]
  },
  {
   "cell_type": "code",
   "execution_count": null,
   "metadata": {},
   "outputs": [],
   "source": [
    "pos = nx.spring_layout(G) #set up a network\n",
    "\n",
    "fig = plt.figure(figsize=(6, 6), facecolor='white')\n",
    "\n",
    "nx.draw(G, pos, \n",
    "        nodelist    = list(dict(G.degree).keys()),\n",
    "        node_size   = [v*40 for v in dict(G.degree).values()], \n",
    "        node_color  = 'blue',         \n",
    "        node_shape  = 'o', \n",
    "        cmap        = plt.cm.gray,\n",
    "        edgelist    = edges, \n",
    "        edge_color  = 'gray', \n",
    "        width       = 1.0,\n",
    "        with_labels = True, \n",
    "        arrows      = True, \n",
    "        arrowstyle  = '->')\n",
    "\n",
    "plt.title(\"A twitter social network\")\n",
    "plt.show()"
   ]
  },
  {
   "cell_type": "code",
   "execution_count": null,
   "metadata": {},
   "outputs": [],
   "source": []
  }
 ],
 "metadata": {
  "kernelspec": {
   "display_name": "Python 3",
   "language": "python",
   "name": "python3"
  },
  "language_info": {
   "codemirror_mode": {
    "name": "ipython",
    "version": 3
   },
   "file_extension": ".py",
   "mimetype": "text/x-python",
   "name": "python",
   "nbconvert_exporter": "python",
   "pygments_lexer": "ipython3",
   "version": "3.7.3"
  }
 },
 "nbformat": 4,
 "nbformat_minor": 2
}
